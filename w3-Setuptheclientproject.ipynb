{
 "cells": [
  {
   "cell_type": "markdown",
   "metadata": {},
   "source": [
    "# Set up the client project"
   ]
  },
  {
   "cell_type": "code",
   "execution_count": null,
   "metadata": {},
   "outputs": [],
   "source": [
    "connection = connector.connect(user = \"admin1\", password = \"admin1\")"
   ]
  },
  {
   "cell_type": "code",
   "execution_count": null,
   "metadata": {},
   "outputs": [],
   "source": [
    "import mysql.connector as connector\n",
    "\n",
    "# Conexión a la base de datos\n",
    "connection = connector.connect(\n",
    "    user=\"admin1\",\n",
    "    password=\"admin1\",\n",
    "    host=\"localhost\",\n",
    "    database=\"LittleLemonDB\"\n",
    ")\n",
    "\n",
    "# Crear un cursor para ejecutar consultas\n",
    "cursor = connection.cursor()\n",
    "print(\"Conexión exitosa a la base de datos.\")\n"
   ]
  },
  {
   "cell_type": "code",
   "execution_count": null,
   "metadata": {},
   "outputs": [],
   "source": [
    "# Consulta para mostrar todas las tablas\n",
    "show_tables_query = \"SHOW TABLES\"\n",
    "cursor.execute(show_tables_query)\n",
    "\n",
    "# Obtener y mostrar los resultados\n",
    "results = cursor.fetchall()\n",
    "\n",
    "# Imprimir los nombres de las tablas\n",
    "print(\"Tablas en la base de datos:\")\n",
    "for table in results:\n",
    "    print(table)\n"
   ]
  },
  {
   "cell_type": "code",
   "execution_count": null,
   "metadata": {},
   "outputs": [],
   "source": [
    "# Definir la consulta SQL para obtener información de clientes con pedidos mayores a $60\n",
    "query = \"\"\"\n",
    "SELECT \n",
    "    CONCAT(c.FirstName, ' ', c.LastName) AS FullName,\n",
    "    c.ContactNumber, \n",
    "    c.EmailAddress, \n",
    "    o.TotalCost\n",
    "FROM \n",
    "    CustomerDetails c\n",
    "JOIN \n",
    "    Orders o ON c.CustomerID = o.CustomerID\n",
    "WHERE \n",
    "    o.TotalCost > 60;\n",
    "\"\"\"\n",
    "\n",
    "# Ejecutar la consulta\n",
    "cursor.execute(query)\n",
    "\n",
    "# Obtener y mostrar los resultados\n",
    "results = cursor.fetchall()\n",
    "\n",
    "# Imprimir la información de cada cliente\n",
    "print(\"Clientes con pedidos mayores a $60:\")\n",
    "for row in results:\n",
    "    print(f\"Nombre: {row[0]}, Contacto: {row[1]}, Email: {row[2]}, Total Cost: {row[3]}\")\n"
   ]
  }
 ],
 "metadata": {
  "kernelspec": {
   "display_name": ".venv",
   "language": "python",
   "name": "python3"
  },
  "language_info": {
   "codemirror_mode": {
    "name": "ipython",
    "version": 3
   },
   "file_extension": ".py",
   "mimetype": "text/x-python",
   "name": "python",
   "nbconvert_exporter": "python",
   "pygments_lexer": "ipython3",
   "version": "3.11.5"
  }
 },
 "nbformat": 4,
 "nbformat_minor": 2
}
